{
 "cells": [
  {
   "cell_type": "markdown",
   "id": "baea6b8d",
   "metadata": {},
   "source": [
    "# Largest Number of Similar Words Algorithm"
   ]
  },
  {
   "cell_type": "markdown",
   "id": "93d437b7",
   "metadata": {},
   "source": [
    "In this notebook, we are going to try an algorithm to find the most similar question in the given dataset by looking for the one with the largest number of similar words. Then, the final answer will be the predefined answer for that question."
   ]
  },
  {
   "cell_type": "code",
   "execution_count": 1,
   "id": "1000f00d",
   "metadata": {},
   "outputs": [],
   "source": [
    "import pandas as pd\n",
    "from collections import Counter\n",
    "import re"
   ]
  },
  {
   "cell_type": "markdown",
   "id": "6af37623",
   "metadata": {},
   "source": [
    "## Load data"
   ]
  },
  {
   "cell_type": "code",
   "execution_count": 2,
   "id": "25d9a92f",
   "metadata": {},
   "outputs": [
    {
     "data": {
      "text/html": [
       "<div>\n",
       "<style scoped>\n",
       "    .dataframe tbody tr th:only-of-type {\n",
       "        vertical-align: middle;\n",
       "    }\n",
       "\n",
       "    .dataframe tbody tr th {\n",
       "        vertical-align: top;\n",
       "    }\n",
       "\n",
       "    .dataframe thead th {\n",
       "        text-align: right;\n",
       "    }\n",
       "</style>\n",
       "<table border=\"1\" class=\"dataframe\">\n",
       "  <thead>\n",
       "    <tr style=\"text-align: right;\">\n",
       "      <th></th>\n",
       "      <th>question</th>\n",
       "      <th>answer</th>\n",
       "    </tr>\n",
       "  </thead>\n",
       "  <tbody>\n",
       "    <tr>\n",
       "      <th>0</th>\n",
       "      <td>Hi</td>\n",
       "      <td>Hello</td>\n",
       "    </tr>\n",
       "    <tr>\n",
       "      <th>1</th>\n",
       "      <td>Hello</td>\n",
       "      <td>Hi</td>\n",
       "    </tr>\n",
       "    <tr>\n",
       "      <th>2</th>\n",
       "      <td>Who are you?</td>\n",
       "      <td>I'm the person you are looking for. What for? ...</td>\n",
       "    </tr>\n",
       "    <tr>\n",
       "      <th>3</th>\n",
       "      <td>What's your name?</td>\n",
       "      <td>Antonio, or maybe not...</td>\n",
       "    </tr>\n",
       "    <tr>\n",
       "      <th>4</th>\n",
       "      <td>What's my name?</td>\n",
       "      <td>The most beautiful name I've ever heard: Mufasa.</td>\n",
       "    </tr>\n",
       "  </tbody>\n",
       "</table>\n",
       "</div>"
      ],
      "text/plain": [
       "            question                                             answer\n",
       "0                 Hi                                              Hello\n",
       "1              Hello                                                 Hi\n",
       "2       Who are you?  I'm the person you are looking for. What for? ...\n",
       "3  What's your name?                           Antonio, or maybe not...\n",
       "4    What's my name?   The most beautiful name I've ever heard: Mufasa."
      ]
     },
     "execution_count": 2,
     "metadata": {},
     "output_type": "execute_result"
    }
   ],
   "source": [
    "# Load training data\n",
    "train_df = pd.read_csv(\"../data/en.csv\", sep=\";\")\n",
    "train_df.head()"
   ]
  },
  {
   "cell_type": "code",
   "execution_count": 3,
   "id": "be90637b",
   "metadata": {},
   "outputs": [
    {
     "data": {
      "text/html": [
       "<div>\n",
       "<style scoped>\n",
       "    .dataframe tbody tr th:only-of-type {\n",
       "        vertical-align: middle;\n",
       "    }\n",
       "\n",
       "    .dataframe tbody tr th {\n",
       "        vertical-align: top;\n",
       "    }\n",
       "\n",
       "    .dataframe thead th {\n",
       "        text-align: right;\n",
       "    }\n",
       "</style>\n",
       "<table border=\"1\" class=\"dataframe\">\n",
       "  <thead>\n",
       "    <tr style=\"text-align: right;\">\n",
       "      <th></th>\n",
       "      <th>question</th>\n",
       "      <th>variation</th>\n",
       "    </tr>\n",
       "  </thead>\n",
       "  <tbody>\n",
       "    <tr>\n",
       "      <th>0</th>\n",
       "      <td>Hi</td>\n",
       "      <td>Hiii</td>\n",
       "    </tr>\n",
       "    <tr>\n",
       "      <th>1</th>\n",
       "      <td>Hello</td>\n",
       "      <td>Helloooo!</td>\n",
       "    </tr>\n",
       "    <tr>\n",
       "      <th>2</th>\n",
       "      <td>What's your name?</td>\n",
       "      <td>Tell me your name.</td>\n",
       "    </tr>\n",
       "    <tr>\n",
       "      <th>3</th>\n",
       "      <td>What's your name?</td>\n",
       "      <td>What is your name?</td>\n",
       "    </tr>\n",
       "    <tr>\n",
       "      <th>4</th>\n",
       "      <td>What's my name?</td>\n",
       "      <td>What is my name?</td>\n",
       "    </tr>\n",
       "  </tbody>\n",
       "</table>\n",
       "</div>"
      ],
      "text/plain": [
       "            question           variation\n",
       "0                 Hi                Hiii\n",
       "1              Hello           Helloooo!\n",
       "2  What's your name?  Tell me your name.\n",
       "3  What's your name?  What is your name?\n",
       "4    What's my name?    What is my name?"
      ]
     },
     "execution_count": 3,
     "metadata": {},
     "output_type": "execute_result"
    }
   ],
   "source": [
    "# Load variation data\n",
    "var_df = pd.read_csv(\"../data/en-var.csv\", sep=\";\")\n",
    "var_df.head()"
   ]
  },
  {
   "cell_type": "markdown",
   "id": "137ed822",
   "metadata": {},
   "source": [
    "## Tokenizer"
   ]
  },
  {
   "cell_type": "markdown",
   "id": "eadad92a",
   "metadata": {},
   "source": [
    "To apply the algorithm, the first step will be to tokenize the questions. We could use tokenizers from libraries like NLTK or Spacy but, for now, we'll write a simple tokenizer ourselves."
   ]
  },
  {
   "cell_type": "code",
   "execution_count": 4,
   "id": "f6aff5c7",
   "metadata": {},
   "outputs": [],
   "source": [
    "# Let's define some contractions to replace them later,\n",
    "# without being too precise (there are contractions that depend on the context)\n",
    "CONTRACTIONS = {\n",
    "    \"n't\": \"not\",\n",
    "    \"'re\": \"are\",\n",
    "    \"'ll\": \"will\",\n",
    "    \"'s\": \"is\",\n",
    "    \"'ve\": \"have\",\n",
    "    \"'d\": \"had\",\n",
    "    \" u \": \"you\",\n",
    "}"
   ]
  },
  {
   "cell_type": "code",
   "execution_count": 5,
   "id": "45cfbb7c",
   "metadata": {},
   "outputs": [],
   "source": [
    "class Tokenizer:\n",
    "    \"\"\"A super simple class to tokenize phrases\"\"\"\n",
    "\n",
    "    def __init__(self, replace_contractions: bool = True):\n",
    "        self.replace_contractions = replace_contractions\n",
    "\n",
    "    def tokenize(self, phrase: str):\n",
    "        \"\"\"Tokenize phrase\"\"\"\n",
    "        \n",
    "        # Replace contractions\n",
    "        if self.replace_contractions:\n",
    "            for contraction, replacement in CONTRACTIONS.items():\n",
    "                phrase = phrase.replace(contraction, \" \" + replacement)\n",
    "        \n",
    "        # Remove marks (TODO: use regex)\n",
    "        marks = \"\"\"!()-[]{};:'\"\\,<>./?@#$%^&*_~\"\"\"\n",
    "        for m in marks:\n",
    "            phrase = phrase.replace(m, \"\")\n",
    "            \n",
    "        # Remove repetition of last letters (something to work on more)\n",
    "        last_letter = phrase[-1]\n",
    "        i = -2\n",
    "        while phrase[i] == last_letter:\n",
    "            phrase = phrase[:i] + last_letter        \n",
    "\n",
    "        # Tokenize phrase\n",
    "        words = [word.lower() for word in phrase.split()]\n",
    "\n",
    "        return words"
   ]
  },
  {
   "cell_type": "markdown",
   "id": "fd94d754",
   "metadata": {},
   "source": [
    "## Model"
   ]
  },
  {
   "cell_type": "code",
   "execution_count": 6,
   "id": "018b8d89",
   "metadata": {},
   "outputs": [],
   "source": [
    "class MostTimes:\n",
    "    \"\"\"Get the question with the most similar words\"\"\"\n",
    "\n",
    "    def __init__(self, tokenizer: Tokenizer = Tokenizer()):\n",
    "        self.tokenizer = tokenizer\n",
    "        self.words = {}\n",
    "        self.answers = {}\n",
    "\n",
    "    def train(self, df: pd.DataFrame):\n",
    "        \"\"\"\n",
    "        Train the model.\n",
    "        \n",
    "        Parameters\n",
    "        ----------\n",
    "        df : DataFrame\n",
    "            Pandas DataFrame with one column for the questions and other for\n",
    "            their corresponding answers.\n",
    "        \n",
    "        \"\"\"\n",
    "        for _, row in df.iterrows():\n",
    "            question, answer = row\n",
    "            self.answers[question.lower()] = answer\n",
    "            q_words = self.tokenizer.tokenize(question)\n",
    "            for word in q_words:\n",
    "                if word in self.words:\n",
    "                    self.words[word].add(answer)\n",
    "                else:\n",
    "                    self.words[word] = {answer}\n",
    "\n",
    "    def get_answer(self, question: str):\n",
    "        \"\"\"\n",
    "        Get most probable answer.\n",
    "        \n",
    "        Parameters\n",
    "        ----------\n",
    "        question : str\n",
    "            Question to ask the bot model.\n",
    "            \n",
    "        Returns\n",
    "        -------\n",
    "        A string containing the answer.\n",
    "\n",
    "        \"\"\"\n",
    "        if question in self.answers:\n",
    "            return self.answers[question]\n",
    "        words = self.tokenizer.tokenize(question)\n",
    "        answers = []\n",
    "        for w in words:\n",
    "            if w in self.words:\n",
    "                answers.extend(self.words[w])\n",
    "        if len(answers) == 0:\n",
    "            return \"Mmmm, I don't know.\"\n",
    "        c = Counter(answers)\n",
    "        common_answers = c.most_common()\n",
    "        top = common_answers[0][0]\n",
    "        return top"
   ]
  },
  {
   "cell_type": "markdown",
   "id": "4f70f6e2",
   "metadata": {},
   "source": [
    "It could be optimized, but for now let's keep it simple."
   ]
  },
  {
   "cell_type": "markdown",
   "id": "cf23fe59",
   "metadata": {},
   "source": [
    "## Train the model"
   ]
  },
  {
   "cell_type": "code",
   "execution_count": 7,
   "id": "2154251b",
   "metadata": {},
   "outputs": [],
   "source": [
    "m = MostTimes()\n",
    "m.train(train_df)"
   ]
  },
  {
   "cell_type": "markdown",
   "id": "1e6ce9a0",
   "metadata": {},
   "source": [
    "## Test the model"
   ]
  },
  {
   "cell_type": "code",
   "execution_count": 8,
   "id": "688c3701",
   "metadata": {},
   "outputs": [
    {
     "name": "stdout",
     "output_type": "stream",
     "text": [
      "8.28 µs ± 18 ns per loop (mean ± std. dev. of 7 runs, 100,000 loops each)\n"
     ]
    }
   ],
   "source": [
    "# Performance test\n",
    "%timeit m.get_answer(\"How many years old are you?\")"
   ]
  },
  {
   "cell_type": "code",
   "execution_count": 9,
   "id": "44b7ed2f",
   "metadata": {},
   "outputs": [
    {
     "name": "stdout",
     "output_type": "stream",
     "text": [
      "accuracy: 62.50%\n"
     ]
    }
   ],
   "source": [
    "# Accuracy test\n",
    "n_correct = 0\n",
    "test_df = pd.merge(var_df, train_df, on=\"question\", how=\"left\")\n",
    "for _, row in test_df.iterrows():\n",
    "    answer = m.get_answer(row.variation)\n",
    "    if answer == row.answer:\n",
    "        n_correct += 1\n",
    "acc = n_correct / test_df.shape[0] * 100\n",
    "print(\"accuracy: {:.2f}%\".format(acc))"
   ]
  },
  {
   "cell_type": "markdown",
   "id": "e27e58c9",
   "metadata": {},
   "source": [
    "It is not very reliable for now. It would be necessary to increase the volume of test data and debug the tokenizer and the model more."
   ]
  },
  {
   "cell_type": "markdown",
   "id": "c0a78505",
   "metadata": {},
   "source": [
    "## Playground"
   ]
  },
  {
   "cell_type": "code",
   "execution_count": 10,
   "id": "58e45005",
   "metadata": {},
   "outputs": [
    {
     "name": "stdout",
     "output_type": "stream",
     "text": [
      "Talk to Tony the bot (write ':q' to exit)\n",
      "-----------------------------------------\n",
      "> Hellooo\n",
      "🤖 Hi\n",
      "> How old are you?\n",
      "🤖 I'm 27.\n",
      "> What did you study?\n",
      "🤖 I studied Telecommunications Engineering at the UPM (Universidad Politéncica de Madrid)\n",
      "> What's my name?\n",
      "🤖 The most beautiful name I've ever heard: Mufasa.\n",
      "> :q\n"
     ]
    }
   ],
   "source": [
    "print(\"Talk to Tony the bot (write ':q' to exit)\")\n",
    "print(\"-----------------------------------------\")\n",
    "exit_conditions = {\":q\", \"quit\", \"exit\"}\n",
    "while True:\n",
    "    question = input(\"> \")\n",
    "    if question in exit_conditions:\n",
    "        break\n",
    "    else:\n",
    "        print(f\"🤖 {m.get_answer(question)}\")"
   ]
  },
  {
   "cell_type": "code",
   "execution_count": null,
   "id": "7ce0ff34",
   "metadata": {},
   "outputs": [],
   "source": []
  }
 ],
 "metadata": {
  "kernelspec": {
   "display_name": "Python 3 (ipykernel)",
   "language": "python",
   "name": "python3"
  },
  "language_info": {
   "codemirror_mode": {
    "name": "ipython",
    "version": 3
   },
   "file_extension": ".py",
   "mimetype": "text/x-python",
   "name": "python",
   "nbconvert_exporter": "python",
   "pygments_lexer": "ipython3",
   "version": "3.10.8"
  }
 },
 "nbformat": 4,
 "nbformat_minor": 5
}
